{
 "cells": [
  {
   "cell_type": "code",
   "execution_count": null,
   "metadata": {},
   "outputs": [],
   "source": [
    "import numpy as np\n",
    "with open('mnist_train.csv', 'r') as f:\n",
    "    a = []\n",
    "    for line in f.readlines()[1:]:\n",
    "        a.append(line.split('\\n')[:-1])\n",
    "b = []\n",
    "for i in a:\n",
    "    for j in i:\n",
    "        b.append(j.split(','))\n",
    "\n",
    "data = np.array(b, dtype=np.uint8)\n",
    "y_train = data[:60000,0]\n",
    "x_train = data[:60000,1:]\n",
    "x_train.shape"
   ]
  },
  {
   "cell_type": "code",
   "execution_count": null,
   "metadata": {},
   "outputs": [],
   "source": [
    "from sklearn.neural_network import MLPClassifier\n",
    "clf = MLPClassifier(solver='adam', alpha=1e-5, activation='relu', batch_size=128,\n",
    "                    hidden_layer_sizes=(50, 50), random_state=1, max_iter=1200)\n",
    "\n",
    "clf.fit(x_train, y_train)\n",
    "a = clf.predict(x_train)"
   ]
  },
  {
   "cell_type": "code",
   "execution_count": null,
   "metadata": {},
   "outputs": [],
   "source": [
    "len(a[a == y_train]) / len(y_train)"
   ]
  },
  {
   "cell_type": "code",
   "execution_count": null,
   "metadata": {},
   "outputs": [],
   "source": [
    "from PIL import Image\n",
    "import time\n",
    "\n",
    "\n",
    "for i in range(100):\n",
    "    test = 255 - np.array(Image.open('test_pic.png').convert('L'))\n",
    "    print(clf.predict(test.reshape(1, -1))[0])\n",
    "    time.sleep(12)"
   ]
  }
 ],
 "metadata": {
  "kernelspec": {
   "display_name": "Python 3",
   "language": "python",
   "name": "python3"
  },
  "language_info": {
   "codemirror_mode": {
    "name": "ipython",
    "version": 3
   },
   "file_extension": ".py",
   "mimetype": "text/x-python",
   "name": "python",
   "nbconvert_exporter": "python",
   "pygments_lexer": "ipython3",
   "version": "3.7.4"
  }
 },
 "nbformat": 4,
 "nbformat_minor": 2
}
